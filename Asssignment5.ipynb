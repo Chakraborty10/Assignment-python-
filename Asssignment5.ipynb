{
 "cells": [
  {
   "cell_type": "code",
   "execution_count": null,
   "id": "a056eb58-39af-4ba3-8dea-501241db1941",
   "metadata": {},
   "outputs": [],
   "source": [
    "Q1. Explain Class and Object with respect to Object-Oriented Programming. Give a suitable example."
   ]
  },
  {
   "cell_type": "code",
   "execution_count": null,
   "id": "af74e7d7-062a-4ef9-99e2-0f62056a7803",
   "metadata": {},
   "outputs": [],
   "source": [
    "Class and Object are fundamental concepts in Object-Oriented Programming (OOP).\n",
    "\n",
    "Class is a blueprint or a template for creating objects. It defines the attributes and behaviors (methods) of a\n",
    "certain type of objects. For example, a Person class could have attributes like name, age, and gender and methods\n",
    "like speak(), eat(), and walk(). A class does not take up any memory or space.\n",
    "Object is an instance of a class. It is created from a class and has its own unique attributes and behaviors \n",
    "defined by the class. For example, John could be an object of the Person class, with a name attribute of \"John\", \n",
    "an age attribute of 30, and a gender attribute of \"Male\".\n",
    "An analogy to better understand this concept could be a recipe (class) and a cake (object) that you bake using the\n",
    "recipe. The recipe defines what ingredients and steps are needed to make a cake, while the cake is a specific \n",
    "instance of the recipe. You can make multiple cakes using the same recipe, just as you can create multiple objects\n",
    "of the same class."
   ]
  },
  {
   "cell_type": "code",
   "execution_count": 1,
   "id": "3f1e018b-705d-4304-85bd-aad958b8bc3d",
   "metadata": {},
   "outputs": [
    {
     "name": "stdout",
     "output_type": "stream",
     "text": [
      "Hello, my name is John\n",
      "John is eating\n",
      "John is walking\n"
     ]
    }
   ],
   "source": [
    "#Example\n",
    "class Person:\n",
    "    def __init__(self, name, age, gender):\n",
    "        self.name = name\n",
    "        self.age = age\n",
    "        self.gender = gender\n",
    "\n",
    "    def speak(self):\n",
    "        print(f\"Hello, my name is {self.name}\")\n",
    "\n",
    "    def eat(self):\n",
    "        print(f\"{self.name} is eating\")\n",
    "\n",
    "    def walk(self):\n",
    "        print(f\"{self.name} is walking\")\n",
    "\n",
    "person = Person(\"John\", 30, \"Male\")\n",
    "person.speak()\n",
    "person.eat()\n",
    "person.walk()"
   ]
  },
  {
   "cell_type": "code",
   "execution_count": null,
   "id": "4f87e460-58dc-457a-9ead-aab849e86b81",
   "metadata": {},
   "outputs": [],
   "source": [
    "Q2. Name the four pillars of OOPs."
   ]
  },
  {
   "cell_type": "code",
   "execution_count": null,
   "id": "64da5211-d980-4e60-92dc-03245928ba60",
   "metadata": {},
   "outputs": [],
   "source": [
    "The four pillars of Object-Oriented Programming (OOP) are:\n",
    "1.Encapsulation: It refers to the practice of keeping an object's internal state and behavior hidden from the \n",
    "outside world. This helps to protect the data and prevent unintended modification.\n",
    "2.Abstraction: It refers to the ability to focus on the essential features of an object while ignoring \n",
    "non-essential details. This makes the code more modular, easier to understand and maintain.\n",
    "3.Inheritance: It refers to the ability of an object to inherit attributes and behaviors from a parent object. \n",
    "This helps to avoid repetitive code and provide a hierarchical structure to the objects in the system.\n",
    "4.Polymorphism: It refers to the ability of an object to take on multiple forms. This allows objects of different\n",
    "types to be treated as objects of the same type, leading to more flexible and reusable code."
   ]
  },
  {
   "cell_type": "code",
   "execution_count": null,
   "id": "dca93a21-4cd8-4a41-906a-435c23f25687",
   "metadata": {},
   "outputs": [],
   "source": [
    "Q3. Explain why the __init__() function is used. Give a suitable example."
   ]
  },
  {
   "cell_type": "code",
   "execution_count": null,
   "id": "054b0ca8-bd1b-465f-9e12-ae2b02848e8c",
   "metadata": {},
   "outputs": [],
   "source": [
    "The __init__() function is a special method in Python that is automatically called when an object of a class is\n",
    "created. It is used to initialize the attributes of an object when it is created. The __init__() method is\n",
    "commonly referred to as the constructor method.\n",
    "\n",
    "The syntax for __init__() is:\n",
    "def __init__(self, [args]):\n",
    "    [initialization code]\n",
    "where self is a reference to the current object, and [args] are the arguments that can be passed to the constructor\n",
    "when creating an object of the class.\n",
    "Example:\n",
    "class Car:\n",
    "    def __init__(self, make, model, year):\n",
    "        self.make = make\n",
    "        self.model = model\n",
    "        self.year = year\n",
    "\n",
    "car = Car(\"Toyota\", \"Camry\", 2020)\n",
    "print(car.make)\n",
    "print(car.model)\n",
    "print(car.year)"
   ]
  },
  {
   "cell_type": "code",
   "execution_count": null,
   "id": "769ba711-2558-4c93-8af8-852ca4fc691d",
   "metadata": {},
   "outputs": [],
   "source": [
    "Q4. Why self is used in OOPs?"
   ]
  },
  {
   "cell_type": "code",
   "execution_count": null,
   "id": "b5db3f6a-5349-4902-990e-ea363701c1a2",
   "metadata": {},
   "outputs": [],
   "source": [
    "In object-oriented programming (OOP), self is a reference to the current instance of a class. It is used to access\n",
    "the attributes and methods of the current object from within the class.\n",
    "\n",
    "self is used in the definition of a class method to refer to the object on which the method is being called.\n",
    "It is automatically passed as the first argument to the method when it is called. This allows you to access and \n",
    "modify the attributes of the object within the method."
   ]
  },
  {
   "cell_type": "code",
   "execution_count": null,
   "id": "9142d4e1-8ec9-4e13-b813-0affa501794b",
   "metadata": {},
   "outputs": [],
   "source": [
    "Q5. What is inheritance? Give an example for each type of inheritance."
   ]
  },
  {
   "cell_type": "code",
   "execution_count": null,
   "id": "2d0b8d5e-7d8d-4f60-929b-d8173b4a3788",
   "metadata": {},
   "outputs": [],
   "source": [
    "Inheritance is a mechanism in object-oriented programming that allows one class to inherit the properties and \n",
    "methods of another class. This allows for code reuse and modularity in the design of objects and classes.\n",
    "\n",
    "There are several types of inheritance in Python:\n",
    "\n",
    "1.Single Inheritance: This type of inheritance occurs when a child class inherits from a single parent class. \n",
    "Example:\n",
    "class Parent:\n",
    "    def method1(self):\n",
    "        print(\"method1 in Parent\")\n",
    "\n",
    "class Child(Parent):\n",
    "    def method2(self):\n",
    "        print(\"method2 in Child\")\n",
    "\n",
    "child = Child()\n",
    "child.method1() # Output: method1 in Parent\n",
    "child.method2() # Output: method2 in Child\n",
    "\n",
    "2.Multiple Inheritance: This type of inheritance occurs when a child class inherits from multiple parent classes.\n",
    "Example:\n",
    "class Parent1:\n",
    "    def method1(self):\n",
    "        print(\"method1 in Parent1\")\n",
    "\n",
    "class Parent2:\n",
    "    def method2(self):\n",
    "        print(\"method2 in Parent2\")\n",
    "\n",
    "class Child(Parent1, Parent2):\n",
    "    def method3(self):\n",
    "        print(\"method3 in Child\")\n",
    "\n",
    "child = Child()\n",
    "child.method1() # Output: method1 in Parent1\n",
    "child.method2() # Output: method2 in Parent2\n",
    "child.method3() # Output: method3 in Child\n",
    "\n",
    "3.Hierarchical Inheritance: This type of inheritance occurs when a child class inherits from a parent class,\n",
    "and another child class inherits from the same parent class. Example:\n",
    "class Parent:\n",
    "    def method1(self):\n",
    "        print(\"method1 in Parent\")\n",
    "\n",
    "class Child1(Parent):\n",
    "    def method2(self):\n",
    "        print(\"method2 in Child1\")\n",
    "\n",
    "class Child2(Parent):\n",
    "    def method3(self):\n",
    "        print(\"method3 in Child2\")\n",
    "\n",
    "child1 = Child1()\n",
    "child1.method1() # Output: method1 in Parent\n",
    "child1.method2() # Output: method2 in Child1\n",
    "\n",
    "child2 = Child2()\n",
    "child2.method1() # Output: method1 in Parent\n",
    "child2.method3() # Output: method3 in Child2\n",
    "\n",
    "4.Hybrid Inheritance: This type of inheritance is a combination of multiple and hierarchical inheritance. Example:\n",
    "class Parent1:\n",
    "    def method1(self):\n",
    "        print(\"method1 in Parent1\")\n",
    "\n",
    "class Parent2(Parent1):\n",
    "    def method2(self):\n",
    "        print(\"method2 in Parent2\")\n",
    "\n",
    "class Child(Parent2):\n",
    "    def method3(self):\n",
    "        print(\"method3 in Child\")\n",
    "\n",
    "child = Child()\n",
    "child.method1() # Output: method1 in Parent1\n",
    "child.method2() # Output: method2 in Parent2\n",
    "child.method3() # Output: method3 in Child"
   ]
  }
 ],
 "metadata": {
  "kernelspec": {
   "display_name": "Python 3 (ipykernel)",
   "language": "python",
   "name": "python3"
  },
  "language_info": {
   "codemirror_mode": {
    "name": "ipython",
    "version": 3
   },
   "file_extension": ".py",
   "mimetype": "text/x-python",
   "name": "python",
   "nbconvert_exporter": "python",
   "pygments_lexer": "ipython3",
   "version": "3.10.8"
  }
 },
 "nbformat": 4,
 "nbformat_minor": 5
}
