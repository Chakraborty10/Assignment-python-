{
  "nbformat": 4,
  "nbformat_minor": 0,
  "metadata": {
    "colab": {
      "provenance": []
    },
    "kernelspec": {
      "name": "python3",
      "display_name": "Python 3"
    },
    "language_info": {
      "name": "python"
    }
  },
  "cells": [
    {
      "cell_type": "code",
      "execution_count": null,
      "metadata": {
        "id": "dMf_RVMmMxPW"
      },
      "outputs": [],
      "source": [
        "question 1."
      ]
    },
    {
      "cell_type": "code",
      "source": [
        "def grade(score):\n",
        "    if score > 90:\n",
        "        return \"A\"\n",
        "    elif score >= 80:\n",
        "        return \"B\"\n",
        "    elif score >= 60:\n",
        "        return \"C\"\n",
        "    else:\n",
        "        return \"D\"\n",
        "\n",
        "score = int(input(\"Enter your score: \"))\n",
        "grade = grade(score)\n",
        "print(\"Your grade is:\", grade)"
      ],
      "metadata": {
        "colab": {
          "base_uri": "https://localhost:8080/"
        },
        "id": "BjIQ9X8TM1f-",
        "outputId": "cf5724bf-e3f8-41d0-c7f5-cd2af98cc866"
      },
      "execution_count": 5,
      "outputs": [
        {
          "output_type": "stream",
          "name": "stdout",
          "text": [
            "Enter your score: 86\n",
            "Your grade is: B\n"
          ]
        }
      ]
    },
    {
      "cell_type": "code",
      "source": [
        "question 2."
      ],
      "metadata": {
        "id": "0fEqylpdM1tD"
      },
      "execution_count": null,
      "outputs": []
    },
    {
      "cell_type": "code",
      "source": [
        "def calculate_tax(price):\n",
        "    if price > 100000:\n",
        "        return\"15%\"\n",
        "    elif price >= 50000:\n",
        "        return\"10%\"\n",
        "    else:\n",
        "        return \"5%\"\n",
        "    \n",
        "\n",
        "price = float(input(\"Enter the price of the bike: \"))\n",
        "tax = calculate_tax(price)\n",
        "print(\"The tax for the bike is:\", tax)"
      ],
      "metadata": {
        "colab": {
          "base_uri": "https://localhost:8080/"
        },
        "id": "rhJLDkcWM1wH",
        "outputId": "26e3c5cd-5b98-45c7-8cca-47aebeeb88a5"
      },
      "execution_count": 6,
      "outputs": [
        {
          "output_type": "stream",
          "name": "stdout",
          "text": [
            "Enter the price of the bike: 65000\n",
            "The tax for the bike is: 10%\n"
          ]
        }
      ]
    },
    {
      "cell_type": "code",
      "source": [
        "question 3."
      ],
      "metadata": {
        "id": "cHOxCcvyM102"
      },
      "execution_count": null,
      "outputs": []
    },
    {
      "cell_type": "code",
      "source": [
        "def monument(city):\n",
        "    if city == \"delhi\":\n",
        "        return \"Red Fort\"\n",
        "    elif city == \"agra\":\n",
        "        return \"Taj Mahal\"\n",
        "    elif city == \"jaipur\":\n",
        "        return \"Jal Mahal\"\n",
        "\n",
        "city = input(\"Enter a city: \").lower()\n",
        "monument = monument(city)\n",
        "print(\"The monument in\", city, \"is:\", monument)"
      ],
      "metadata": {
        "colab": {
          "base_uri": "https://localhost:8080/"
        },
        "id": "FWN7xOUJM12R",
        "outputId": "d439eda0-6179-4289-90d3-b092619d3607"
      },
      "execution_count": 7,
      "outputs": [
        {
          "output_type": "stream",
          "name": "stdout",
          "text": [
            "Enter a city: Delhi\n",
            "The monument in delhi is: Red Fort\n"
          ]
        }
      ]
    },
    {
      "cell_type": "code",
      "source": [
        "question 4."
      ],
      "metadata": {
        "id": "2hOYbaWVM15G"
      },
      "execution_count": null,
      "outputs": []
    },
    {
      "cell_type": "code",
      "source": [
        "def count_divisions(num):\n",
        "    count = 0\n",
        "    while num >= 10:\n",
        "        num = num / 3\n",
        "        count += 1\n",
        "    return count\n",
        "\n",
        "num = int(input(\"Enter a number: \"))\n",
        "divisions = count_divisions(num)\n",
        "print(num,\"can be divided by 3,\", divisions,\"times until it's equal to or less than 10.\")"
      ],
      "metadata": {
        "colab": {
          "base_uri": "https://localhost:8080/"
        },
        "id": "_yRrBGkGM18H",
        "outputId": "018c337e-3dfb-46a8-d47b-36beb8a3aba9"
      },
      "execution_count": 8,
      "outputs": [
        {
          "output_type": "stream",
          "name": "stdout",
          "text": [
            "Enter a number: 555\n",
            "555 can be divided by 3, 4 times until it's equal to or less than 10.\n"
          ]
        }
      ]
    },
    {
      "cell_type": "code",
      "source": [
        "Question 5. Why and when to use while loop in python give a detail description with example."
      ],
      "metadata": {
        "id": "7mvcQnVfM1_Y"
      },
      "execution_count": null,
      "outputs": []
    },
    {
      "cell_type": "code",
      "source": [
        "A while loop in Python is used to repeatedly execute a block of code as long as a certain condition is true.\n",
        "The condition is evaluated before each iteration of the loop, and if it is True, the code inside the loop will be executed. If the condition is False,\n",
        "the loop will stop and execution will continue with the next statement after the loop.\n",
        "Example:-\n",
        "counter = 1\n",
        "# Using while loop\n",
        "while counter <= 10:\n",
        "    print(counter)\n",
        "    counter = counter + 1\n",
        "In the above example, the while loop is used to repeatedly print the value of the counter variable as long as it is less than or equal to 10.\n",
        "The counter is incremented by 1 after each iteration to eventually reach 10 and the loop stops.    \n"
      ],
      "metadata": {
        "id": "ExYv9QQ2M2Cc"
      },
      "execution_count": null,
      "outputs": []
    },
    {
      "cell_type": "code",
      "source": [
        "Question 6. use nested while loop to print 3 diifferent patterns."
      ],
      "metadata": {
        "id": "vw8dRv2mM2Fh"
      },
      "execution_count": null,
      "outputs": []
    },
    {
      "cell_type": "code",
      "source": [
        "i = 1\n",
        "while i <= 5:\n",
        "    j = 1\n",
        "    while j <= i:\n",
        "        print(\"*\", end=\" \")\n",
        "        j = j + 1\n",
        "    print(\"\")\n",
        "    i = i + 1"
      ],
      "metadata": {
        "colab": {
          "base_uri": "https://localhost:8080/"
        },
        "id": "PuAWenxBM2I5",
        "outputId": "3b3c750f-a38c-4c7f-a168-39aacf7650bf"
      },
      "execution_count": 1,
      "outputs": [
        {
          "output_type": "stream",
          "name": "stdout",
          "text": [
            "* \n",
            "* * \n",
            "* * * \n",
            "* * * * \n",
            "* * * * * \n"
          ]
        }
      ]
    },
    {
      "cell_type": "code",
      "source": [
        "i = 1\n",
        "while i <= 5:\n",
        "    j = 1\n",
        "    while j <= 5 - i:\n",
        "        print(\" \", end=\" \")\n",
        "        j = j + 1\n",
        "    k = 1\n",
        "    while k <= i:\n",
        "        print(\"*\", end=\" \")\n",
        "        k = k + 1\n",
        "\n",
        "    print(\"\")\n",
        "    i = i + 1"
      ],
      "metadata": {
        "colab": {
          "base_uri": "https://localhost:8080/"
        },
        "id": "jeVhl1bnM2Lu",
        "outputId": "17b3cbc0-15ce-40e4-b8f4-d29c5cdae542"
      },
      "execution_count": 2,
      "outputs": [
        {
          "output_type": "stream",
          "name": "stdout",
          "text": [
            "        * \n",
            "      * * \n",
            "    * * * \n",
            "  * * * * \n",
            "* * * * * \n"
          ]
        }
      ]
    },
    {
      "cell_type": "code",
      "source": [
        "i = 5\n",
        "while i >= 1:\n",
        "    j = 1\n",
        "    while j <= 5 - i:\n",
        "        print(\" \", end=\" \")\n",
        "        j = j + 1\n",
        "    k = 1\n",
        "    while k <= i:\n",
        "        print(\"*\", end=\" \")\n",
        "        k = k + 1\n",
        "\n",
        "    print(\"\")\n",
        "    i = i - 1"
      ],
      "metadata": {
        "colab": {
          "base_uri": "https://localhost:8080/"
        },
        "id": "fdJ0jVdAM2Ph",
        "outputId": "0e153a9e-9ee1-4abf-c65f-8c856a66281e"
      },
      "execution_count": 3,
      "outputs": [
        {
          "output_type": "stream",
          "name": "stdout",
          "text": [
            "* * * * * \n",
            "  * * * * \n",
            "    * * * \n",
            "      * * \n",
            "        * \n"
          ]
        }
      ]
    },
    {
      "cell_type": "code",
      "source": [
        "Question 7. Reverse while loop to display number 10 to 0."
      ],
      "metadata": {
        "id": "-4OS2KLyM2SE"
      },
      "execution_count": null,
      "outputs": []
    },
    {
      "cell_type": "code",
      "source": [
        "counter = 10\n",
        "while counter >= 0:\n",
        "    print(counter)\n",
        "    counter = counter - 1"
      ],
      "metadata": {
        "colab": {
          "base_uri": "https://localhost:8080/"
        },
        "id": "lnYWYRfcSdyN",
        "outputId": "5f12d064-62ef-4469-f2cc-0e1219f5b803"
      },
      "execution_count": 4,
      "outputs": [
        {
          "output_type": "stream",
          "name": "stdout",
          "text": [
            "10\n",
            "9\n",
            "8\n",
            "7\n",
            "6\n",
            "5\n",
            "4\n",
            "3\n",
            "2\n",
            "1\n",
            "0\n"
          ]
        }
      ]
    }
  ]
}