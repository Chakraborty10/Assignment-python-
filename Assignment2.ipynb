{
 "cells": [
  {
   "cell_type": "code",
   "execution_count": null,
   "id": "cbc7bc50-9c46-413d-ba12-9a7f7299287b",
   "metadata": {},
   "outputs": [],
   "source": [
    "Q1. Explain with an example each when to use a for loop and a while loop."
   ]
  },
  {
   "cell_type": "code",
   "execution_count": null,
   "id": "97f1596b-4702-436f-a93f-423263bbb391",
   "metadata": {},
   "outputs": [],
   "source": [
    "The choice between using a for loop and a while loop in Python depends on the specific requirements of the task at hand. Here are examples of when to use each loop:\n",
    "\n",
    "1.for loop:\n",
    "A for loop is used when you want to iterate over a sequence (such as a list, tuple, or string) and execute a block of code for each item in the sequence.\n",
    "The basic syntax is:\n",
    "for number in range(1, 11):\n",
    "    print(number)\n",
    "2.while loop:\n",
    "A while loop is used when you want to repeatedly execute a block of code as long as a certain condition is true. \n",
    "The basic syntax is:\n",
    "counter = 2\n",
    "sum = 0\n",
    "while counter <= 100:\n",
    "    sum = sum + counter\n",
    "    counter = counter + 2\n",
    "print(\"The sum of all even numbers from 1 to 100 is\", sum)\n",
    "    \n",
    "    "
   ]
  },
  {
   "cell_type": "code",
   "execution_count": null,
   "id": "65041a17-90d6-4d51-8504-73ff5f7eb710",
   "metadata": {},
   "outputs": [],
   "source": [
    "Q2. Write a python program to print the sum and product of the first 10 natural numbers using for and while loop."
   ]
  },
  {
   "cell_type": "code",
   "execution_count": 1,
   "id": "4d189494-4959-45f2-b9a6-9b9d888c21bd",
   "metadata": {},
   "outputs": [
    {
     "name": "stdout",
     "output_type": "stream",
     "text": [
      "The sum and productof the first 10 natural numbers using for loop is 55 3628800\n"
     ]
    }
   ],
   "source": [
    "#for loop\n",
    "sum = 0\n",
    "product = 1\n",
    "for number in range(1, 11):\n",
    "    sum = sum + number\n",
    "    product = product* number\n",
    "print(\"The sum and product of the first 10 natural numbers using for loop are\", sum, product)"
   ]
  },
  {
   "cell_type": "code",
   "execution_count": 2,
   "id": "5f651480-3878-4817-8756-c38965a2ddfd",
   "metadata": {},
   "outputs": [
    {
     "name": "stdout",
     "output_type": "stream",
     "text": [
      "The sum and product of the first 10 natural numbers using while loop are 55 3628800\n"
     ]
    }
   ],
   "source": [
    "#while loop\n",
    "counter = 1\n",
    "sum = 0\n",
    "product = 1\n",
    "while counter <= 10:\n",
    "    sum = sum + counter\n",
    "    product = product * counter\n",
    "    counter = counter + 1\n",
    "print(\"The sum and product of the first 10 natural numbers using while loop are\", sum, product)"
   ]
  },
  {
   "cell_type": "code",
   "execution_count": null,
   "id": "1d846f5b-d925-438a-a420-0facb1927270",
   "metadata": {},
   "outputs": [],
   "source": [
    "Q3. Create a python program to compute the electricity bill for a household.\n",
    "The per-unit charges in rupees are as follows: For the first 100 units, the user will be charged Rs. 4.5 per unit,\n",
    "for the next 100 units, the user will be charged Rs. 6 per unit, and for the next 100 units, the user will be\n",
    "charged Rs. 10 per unit, After 300 units and above the user will be charged Rs. 20 per unit.\n",
    "You are required to take the units of electricity consumed in a month from the user as input.\n",
    "Your program must pass this test case: when the unit of electricity consumed by the user in a month is 310,\n",
    "the total electricity bill should be 2250."
   ]
  },
  {
   "cell_type": "code",
   "execution_count": 3,
   "id": "0c580cef-a3e9-4027-b0c5-84ee8eb73d16",
   "metadata": {},
   "outputs": [
    {
     "name": "stdin",
     "output_type": "stream",
     "text": [
      "Enter the number of units consumed:  310\n"
     ]
    },
    {
     "name": "stdout",
     "output_type": "stream",
     "text": [
      "The total electricity bill is Rs. 2250.0\n"
     ]
    }
   ],
   "source": [
    "units = int(input(\"Enter the number of units consumed: \"))\n",
    "bill = 0\n",
    "# Calculating the electricity bill based on the number of units consumed\n",
    "if units <= 100:\n",
    "    bill = units * 4.5\n",
    "elif units <= 200:\n",
    "    bill = (100 * 4.5) + ((units - 100) * 6)\n",
    "elif units <= 300:\n",
    "    bill = (100 * 4.5) + (100 * 6) + ((units - 200) * 10)\n",
    "else:\n",
    "    bill = (100 * 4.5) + (100 * 6) + (100 * 10) + ((units - 300) * 20)\n",
    "# Printing the final electricity bill\n",
    "print(\"The total electricity bill is Rs.\", bill)"
   ]
  },
  {
   "cell_type": "code",
   "execution_count": null,
   "id": "43a9327c-b05d-4558-b378-776535eaaf97",
   "metadata": {},
   "outputs": [],
   "source": [
    "Q4. Create a list of numbers from 1 to 100. Use for loop and while loop to calculate the cube of each number\n",
    "and if the cube of that number is divisible by 4 or 5 then append that number in a list and print that list."
   ]
  },
  {
   "cell_type": "code",
   "execution_count": 4,
   "id": "b160adb0-8c1b-4e20-aa16-876947bb6b1c",
   "metadata": {},
   "outputs": [
    {
     "name": "stdout",
     "output_type": "stream",
     "text": [
      "The cubes of numbers divisible by 4 or 5 : [8, 64, 125, 216, 512, 1000, 1728, 2744, 3375, 4096, 5832, 8000, 10648, 13824, 15625, 17576, 21952, 27000, 32768, 39304, 42875, 46656, 54872, 64000, 74088, 85184, 91125, 97336, 110592, 125000, 140608, 157464, 166375, 175616, 195112, 216000, 238328, 262144, 274625, 287496, 314432, 343000, 373248, 405224, 421875, 438976, 474552, 512000, 551368, 592704, 614125, 636056, 681472, 729000, 778688, 830584, 857375, 884736, 941192, 1000000]\n"
     ]
    }
   ],
   "source": [
    "# Using a for loop\n",
    "cubes = []\n",
    "for i in range(1, 101):\n",
    "    cube = i**3\n",
    "    if cube % 4 == 0 or cube % 5 == 0:\n",
    "        cubes.append(cube)\n",
    "print(\"The cubes of numbers divisible by 4 or 5 :\", cubes)"
   ]
  },
  {
   "cell_type": "code",
   "execution_count": 5,
   "id": "2bde55ce-f200-465f-a2e4-1f0f474352d7",
   "metadata": {},
   "outputs": [
    {
     "name": "stdout",
     "output_type": "stream",
     "text": [
      "The cubes of numbers divisible by 4 or 5 : [8, 64, 125, 216, 512, 1000, 1728, 2744, 3375, 4096, 5832, 8000, 10648, 13824, 15625, 17576, 21952, 27000, 32768, 39304, 42875, 46656, 54872, 64000, 74088, 85184, 91125, 97336, 110592, 125000, 140608, 157464, 166375, 175616, 195112, 216000, 238328, 262144, 274625, 287496, 314432, 343000, 373248, 405224, 421875, 438976, 474552, 512000, 551368, 592704, 614125, 636056, 681472, 729000, 778688, 830584, 857375, 884736, 941192, 1000000]\n"
     ]
    }
   ],
   "source": [
    "# Using a while loop\n",
    "cubes = []\n",
    "i = 1\n",
    "while i <= 100:\n",
    "    cube = i**3\n",
    "    if cube % 4 == 0 or cube % 5 == 0:\n",
    "        cubes.append(cube)\n",
    "    i = i + 1\n",
    "print(\"The cubes of numbers divisible by 4 or 5 :\", cubes)"
   ]
  },
  {
   "cell_type": "code",
   "execution_count": null,
   "id": "cac91bbc-3ab2-4296-9dfc-82783180013a",
   "metadata": {},
   "outputs": [],
   "source": [
    "Q5. Write a program to filter count vowels in the below-given string. string = \"I want to become a data scientist\""
   ]
  },
  {
   "cell_type": "code",
   "execution_count": null,
   "id": "ffbbb417-8ce3-41a1-8a79-23193ac06cf5",
   "metadata": {},
   "outputs": [],
   "source": [
    "string = \"I want to become a data scientist\"\n",
    "vowels = \"aeiouAEIOU\"\n",
    "count = 0\n",
    "for  in string:\n",
    "    if char in vowels:\n",
    "        count = count + 1\n",
    "print(\"The number of vowels in the string is\", count)"
   ]
  }
 ],
 "metadata": {
  "kernelspec": {
   "display_name": "Python 3 (ipykernel)",
   "language": "python",
   "name": "python3"
  },
  "language_info": {
   "codemirror_mode": {
    "name": "ipython",
    "version": 3
   },
   "file_extension": ".py",
   "mimetype": "text/x-python",
   "name": "python",
   "nbconvert_exporter": "python",
   "pygments_lexer": "ipython3",
   "version": "3.10.8"
  }
 },
 "nbformat": 4,
 "nbformat_minor": 5
}
