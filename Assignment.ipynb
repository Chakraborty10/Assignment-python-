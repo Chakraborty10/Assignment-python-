{
 "cells": [
  {
   "cell_type": "code",
   "execution_count": null,
   "id": "d6c0c65b-d4f1-44ea-8c03-238857f25cd2",
   "metadata": {},
   "outputs": [],
   "source": [
    "1. Who developed Python Programming Language?"
   ]
  },
  {
   "cell_type": "code",
   "execution_count": null,
   "id": "8089325c-9819-414e-8f72-62d4d9766e1b",
   "metadata": {},
   "outputs": [],
   "source": [
    "Guido van Rossum developed the Python programming language."
   ]
  },
  {
   "cell_type": "code",
   "execution_count": null,
   "id": "d9c11329-e518-4a6f-94a9-97eb35e30977",
   "metadata": {},
   "outputs": [],
   "source": [
    "2. Which type of Programming does Python support?"
   ]
  },
  {
   "cell_type": "code",
   "execution_count": null,
   "id": "ba897cb4-26f7-4015-8565-3eeb3d4872c9",
   "metadata": {},
   "outputs": [],
   "source": [
    "Python supports multiple programming paradigms including object-oriented programming, imperative programming, functional programming and procedural programming."
   ]
  },
  {
   "cell_type": "code",
   "execution_count": null,
   "id": "6f5f884c-bdab-4a20-954f-86d7e3f88878",
   "metadata": {},
   "outputs": [],
   "source": [
    "3. Is Python case sensitive when dealing with identifiers?"
   ]
  },
  {
   "cell_type": "code",
   "execution_count": null,
   "id": "b1aafdcf-5f9e-4626-bb08-35c3b8a5faa5",
   "metadata": {},
   "outputs": [],
   "source": [
    "Yes, Python is case sensitive when dealing with identifiers (variable names, function names, class names, etc.)."
   ]
  },
  {
   "cell_type": "code",
   "execution_count": null,
   "id": "eb6a8d27-824e-4826-88fb-616e8300f343",
   "metadata": {},
   "outputs": [],
   "source": [
    "4. What is the correct extension of the Python file?"
   ]
  },
  {
   "cell_type": "code",
   "execution_count": null,
   "id": "4c19978b-6574-4cb0-88cb-81d84e04e814",
   "metadata": {},
   "outputs": [],
   "source": [
    "The correct extension of a Python file is \".py\"."
   ]
  },
  {
   "cell_type": "code",
   "execution_count": null,
   "id": "f76108d0-c1da-45ab-9aba-6d76eda49451",
   "metadata": {},
   "outputs": [],
   "source": [
    "5. Is Python code compiled or interpreted?"
   ]
  },
  {
   "cell_type": "code",
   "execution_count": null,
   "id": "4c5ebd2f-9ff7-4397-b5af-f5a4fe4b47d3",
   "metadata": {},
   "outputs": [],
   "source": [
    "Python code is interpreted, not compiled. The source code is translated into machine-readable code at runtime by the Python interpreter. "
   ]
  },
  {
   "cell_type": "code",
   "execution_count": null,
   "id": "b0d24601-1ce8-4595-bdf1-cffc57b923c3",
   "metadata": {},
   "outputs": [],
   "source": [
    "6. Name a few blocks of code used to define in Python language?"
   ]
  },
  {
   "cell_type": "code",
   "execution_count": null,
   "id": "b0173db4-9129-4b2a-81cf-932400cac48e",
   "metadata": {},
   "outputs": [],
   "source": [
    "In Python, blocks of code are defined using indentation. Some common blocks of code include:\n",
    "\n",
    "Functions - defined using the \"def\" keyword.\n",
    "Classes - defined using the \"class\" keyword.\n",
    "Loops - defined using the \"for\" and \"while\" keywords.\n",
    "Conditional statements - defined using the \"if\" keyword.\n",
    "Try-except blocks - defined using the \"try\" and \"except\" keywords to handle exceptions and errors in the code."
   ]
  },
  {
   "cell_type": "code",
   "execution_count": null,
   "id": "2fc3de7c-9b71-4fe1-b7a3-14e608bd342e",
   "metadata": {},
   "outputs": [],
   "source": [
    "7. State a character used to give single-line comments in Python?"
   ]
  },
  {
   "cell_type": "code",
   "execution_count": null,
   "id": "3597890d-d84f-4079-9721-2a7837eeb5ca",
   "metadata": {},
   "outputs": [],
   "source": [
    "The character \"#\" is used to give single-line comments. Everything after the \"#\" symbol on a line is ignored by the interpreter and is used to provide human-readable annotations or explanations for the code."
   ]
  },
  {
   "cell_type": "code",
   "execution_count": null,
   "id": "c00a1126-994c-4372-ac9c-2a8026407800",
   "metadata": {},
   "outputs": [],
   "source": [
    "8. Mention functions which can help us to find the version of python that we are currently working on?"
   ]
  },
  {
   "cell_type": "code",
   "execution_count": null,
   "id": "b12e89e6-ef29-448c-84e7-b87afe2b66af",
   "metadata": {},
   "outputs": [],
   "source": [
    "There are two built-in functions that can be used to determine the version of Python that you are currently working on:\n",
    "\n",
    "'sys.version' - returns a string that contains information about the version of Python and the platform it is running on.\n",
    "'sys.version_info' - returns a named tuple that contains information about the version of Python as separate fields, such as major, minor, and micro version numbers."
   ]
  },
  {
   "cell_type": "code",
   "execution_count": null,
   "id": "0daac4db-5af1-4571-97a6-d6dd039f599b",
   "metadata": {},
   "outputs": [],
   "source": [
    "9. Python supports the creation of anonymous functions at runtime, using a construct called"
   ]
  },
  {
   "cell_type": "code",
   "execution_count": null,
   "id": "3e826e6a-7446-43af-b15b-675a3f71ce92",
   "metadata": {},
   "outputs": [],
   "source": [
    "lambda functions"
   ]
  },
  {
   "cell_type": "code",
   "execution_count": null,
   "id": "548a856d-d1d7-4673-93fe-11c9d19ba42a",
   "metadata": {},
   "outputs": [],
   "source": [
    "10. What does pip stand for python?"
   ]
  },
  {
   "cell_type": "code",
   "execution_count": null,
   "id": "5ed08623-5a00-4465-b305-d98119c1213f",
   "metadata": {},
   "outputs": [],
   "source": [
    "\"pip\" stands for \"Pip Installs Packages.\""
   ]
  },
  {
   "cell_type": "code",
   "execution_count": null,
   "id": "dd743756-3c56-4be8-a03c-971ed47bc24d",
   "metadata": {},
   "outputs": [],
   "source": [
    "11. Mention a few built-in functions in python?"
   ]
  },
  {
   "cell_type": "code",
   "execution_count": null,
   "id": "6fb02707-dc7e-4016-ac78-48b4db501fa5",
   "metadata": {},
   "outputs": [],
   "source": [
    "Here are some common built-in functions in Python:\n",
    "print()\n",
    "len()\n",
    "range()\n",
    "abs()\n",
    "int()\n",
    "float()\n",
    "str()\n",
    "min()\n",
    "max()\n",
    "sum()\n",
    "sorted()\n",
    "type()"
   ]
  },
  {
   "cell_type": "code",
   "execution_count": null,
   "id": "61cc5a2e-4cf7-40d4-ac5c-b3d4a2ceb230",
   "metadata": {},
   "outputs": [],
   "source": [
    "12. What is the maximum possible length of an identifier in Python?"
   ]
  },
  {
   "cell_type": "code",
   "execution_count": null,
   "id": "a7727562-fce7-479a-8893-e119c4bc2ec7",
   "metadata": {},
   "outputs": [],
   "source": [
    "There is no fixed limit to the length of an identifier. However, it is generally recommended to keep identifiers short and descriptive, and avoid using excessively long names."
   ]
  },
  {
   "cell_type": "code",
   "execution_count": null,
   "id": "661bb60d-41ee-4010-af02-621c3a987051",
   "metadata": {},
   "outputs": [],
   "source": [
    "13. What are the benefits of using Python?"
   ]
  },
  {
   "cell_type": "code",
   "execution_count": null,
   "id": "60c011f5-31a7-4a37-9fc8-c606f94624fc",
   "metadata": {},
   "outputs": [],
   "source": [
    "Some of the benefits of using Python are:\n",
    "\n",
    "1.Easy to learn: Python has a simple and straightforward syntax, making it easy to learn and understand for beginners.\n",
    "\n",
    "2.Versatile: Python is a versatile language that can be used for a wide range of applications, including web development, scientific computing, data analysis, artificial intelligence, and more.\n",
    "\n",
    "3.Large Community: Python has a large and active community of users, which provides a wealth of resources and support for beginners and experts alike.\n",
    "\n",
    "4.Open-Source: Python is open-source software, which means that the source code is freely available and can be modified and distributed by anyone.\n",
    "\n",
    "5.Rich Standard Library: Python has a rich standard library that includes modules for almost any task, from file I/O to HTTP requests, making it easier to perform common tasks without having to write a lot of code.\n",
    "\n",
    "6.Cross-Platform: Python can run on various operating systems, including Windows, Mac, Linux, and more, making it a convenient choice for cross-platform development.\n",
    "\n",
    "7.Dynamic Typing: Python uses dynamic typing, which means that the data type of a variable is determined at runtime, making it easier to write flexible and scalable code."
   ]
  },
  {
   "cell_type": "code",
   "execution_count": null,
   "id": "cdda1c76-6153-447e-9d4f-5728a9ebe5b2",
   "metadata": {},
   "outputs": [],
   "source": [
    "14. How is memory managed in Python?"
   ]
  },
  {
   "cell_type": "code",
   "execution_count": null,
   "id": "6c50cd08-e9cb-4e70-9fb0-042407fef24c",
   "metadata": {},
   "outputs": [],
   "source": [
    "In Python, memory management is handled automatically by the Python memory manager. The memory manager is \n",
    "responsible for allocating and deallocating memory to Python objects, as well as tracking and freeing unused memory.\n",
    "Python uses a reference counting mechanism to keep track of the number of references to an object. When the number\n",
    "of references to an object drops to zero, the memory manager automatically frees the memory occupied by that \n",
    "object. This process is known as garbage collection.\n",
    "In addition to reference counting, Python also uses a cycle detector to identify and free objects that are involved\n",
    "in reference cycles. A reference cycle occurs when two or more objects reference each other, forming a cycle that \n",
    "cannot be broken by the reference counting mechanism. The cycle detector periodically identifies these cycles and\n",
    "frees the memory occupied by the objects involved in the cycle.\n",
    "Overall, Python's memory manager provides a simple and effective way to manage memory, allowing programmers to \n",
    "focus on writing code, without having to worry about the low-level details of memory management."
   ]
  },
  {
   "cell_type": "code",
   "execution_count": null,
   "id": "8d1a373f-9190-4c2c-afa1-fe628758f1d1",
   "metadata": {},
   "outputs": [],
   "source": [
    "15. How to install Python on Windows and set path variables?"
   ]
  },
  {
   "cell_type": "code",
   "execution_count": null,
   "id": "04089336-4c5e-432a-b97e-1010515193a9",
   "metadata": {},
   "outputs": [],
   "source": [
    "Here are the steps to install Python on Windows and set path variables:\n",
    "\n",
    "1.Download the Python installer from the official website (https://www.python.org/downloads/).\n",
    "\n",
    "2.Run the installer and follow the prompts to install Python on your system. By default, Python will be installed in the folder C:\\PythonXX\\, where XX is the version number of Python.\n",
    "\n",
    "3.Set the path environment variable:\n",
    "\n",
    "Open the Start menu and search for \"Environment Variables\".\n",
    "Click on \"Edit the system environment variables\".\n",
    "In the System Properties window, click on the \"Environment Variables\" button.\n",
    "Scroll down to the \"System Variables\" section and find the \"Path\" variable.\n",
    "Click on the \"Edit\" button and then on the \"New\" button to add a new entry to the Path.\n",
    "Add the path to the Python installation, e.g., C:\\PythonXX\\.\n",
    "Close all windows and restart your computer to apply the changes.\n",
    "\n",
    "4.Test the installation:\n",
    "Open the Command Prompt and type python.\n",
    "You should see the Python interpreter prompt (>>>) and be able to run Python commands.\n",
    "With these steps, you should now have Python installed on your Windows system and be able to use it from the Command Prompt."
   ]
  },
  {
   "cell_type": "code",
   "execution_count": null,
   "id": "642937e8-9b60-4c9b-aa11-5391786a450c",
   "metadata": {},
   "outputs": [],
   "source": [
    "16. is indentation required in python?"
   ]
  }
 ],
 "metadata": {
  "kernelspec": {
   "display_name": "Python 3 (ipykernel)",
   "language": "python",
   "name": "python3"
  },
  "language_info": {
   "codemirror_mode": {
    "name": "ipython",
    "version": 3
   },
   "file_extension": ".py",
   "mimetype": "text/x-python",
   "name": "python",
   "nbconvert_exporter": "python",
   "pygments_lexer": "ipython3",
   "version": "3.10.8"
  }
 },
 "nbformat": 4,
 "nbformat_minor": 5
}
