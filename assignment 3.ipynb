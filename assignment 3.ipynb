{
 "cells": [
  {
   "cell_type": "code",
   "execution_count": null,
   "id": "3c3279b3-36ec-4af4-9b4b-befd13ccc60e",
   "metadata": {},
   "outputs": [],
   "source": [
    "Q1. Which keyword is used to create a function? Create a function to return a list of odd numbers in the\n",
    "range of 1 to 25."
   ]
  },
  {
   "cell_type": "code",
   "execution_count": null,
   "id": "a36ced5a-1e62-4bc7-aaef-7d3bdeab1b98",
   "metadata": {},
   "outputs": [],
   "source": [
    "The keyword used to create a function in Python is \"def\"."
   ]
  },
  {
   "cell_type": "code",
   "execution_count": 1,
   "id": "b3cc252b-f578-428c-baa2-d6119c4eb1bf",
   "metadata": {},
   "outputs": [
    {
     "name": "stdout",
     "output_type": "stream",
     "text": [
      "[1, 3, 5, 7, 9, 11, 13, 15, 17, 19, 21, 23, 25]\n"
     ]
    }
   ],
   "source": [
    "def odd_numbers():\n",
    "    odd_list = []\n",
    "    for i in range(1, 26):\n",
    "        if i % 2 != 0:\n",
    "            odd_list.append(i)\n",
    "    return odd_list\n",
    "\n",
    "print(odd_numbers())"
   ]
  },
  {
   "cell_type": "code",
   "execution_count": null,
   "id": "a404f738-6142-4908-9562-7db72f741284",
   "metadata": {},
   "outputs": [],
   "source": [
    "Q2. Why *args and **kwargs is used in some functions? Create a function each for *args and **kwargs\n",
    "to demonstrate their use."
   ]
  },
  {
   "cell_type": "code",
   "execution_count": null,
   "id": "4026b280-cb33-4f60-be61-730e47d28881",
   "metadata": {},
   "outputs": [],
   "source": [
    "*args and **kwargs are used in a function to pass a variable number of arguments to the function.\n",
    "*args is used to pass a non-keyworded, variable length argument list to the function. The syntax is to use the \n",
    "asterisk (*) before the parameter name.\n",
    "**kwargs is used to pass keyworded, variable length of arguments to a function. The syntax is to use double \n",
    "asterisks (**) before the parameter name."
   ]
  },
  {
   "cell_type": "code",
   "execution_count": 2,
   "id": "9ab747e7-db6a-4ebc-a53e-f6cbca2565aa",
   "metadata": {},
   "outputs": [
    {
     "name": "stdout",
     "output_type": "stream",
     "text": [
      "Positional arguments: (1, 2, 3)\n",
      "Keyword arguments: {'a': 1, 'b': 2, 'c': 3}\n"
     ]
    }
   ],
   "source": [
    "def print_args(*args):\n",
    "    print(\"Positional arguments:\", args)\n",
    "\n",
    "def print_kwargs(**kwargs):\n",
    "    print(\"Keyword arguments:\", kwargs)\n",
    "\n",
    "print_args(1, 2, 3)\n",
    "print_kwargs(a=1, b=2, c=3)"
   ]
  },
  {
   "cell_type": "code",
   "execution_count": null,
   "id": "2587498b-1f7d-483b-8ad8-77c08c6aab04",
   "metadata": {},
   "outputs": [],
   "source": [
    "Q3. What is an iterator in python? Name the method used to initialise the iterator object and the method\n",
    "used for iteration. Use these methods to print the first five elements of the given list [2, 4, 6, 8, 10, 12, 14,\n",
    "16, 18, 20]."
   ]
  },
  {
   "cell_type": "code",
   "execution_count": null,
   "id": "9f556d29-41ff-40e4-835a-e5eb86b28b7e",
   "metadata": {},
   "outputs": [],
   "source": [
    "An iterator in Python is an object that can be iterated (looped) upon. It implements the iterator protocol,\n",
    "which consists of the methods __iter__() and __next__(). The __iter__() method returns the iterator object and \n",
    "the __next__() method returns the next value in the sequence. When there are no more items to return, __next__() \n",
    "should raise the StopIteration exception.\n",
    "For example, lists and dictionaries are iterable objects in Python, but to get an iterator for these objects, \n",
    "you need to call the iter() function on them, which returns an iterator that can be used in a for loop or with \n",
    "the next() function to loop through the items in the list or dictionary."
   ]
  },
  {
   "cell_type": "code",
   "execution_count": 2,
   "id": "a6bef47c-214a-42dd-a9c8-e819b579e930",
   "metadata": {},
   "outputs": [
    {
     "name": "stdout",
     "output_type": "stream",
     "text": [
      "2\n",
      "4\n",
      "6\n",
      "8\n",
      "10\n"
     ]
    }
   ],
   "source": [
    "numbers = [2, 4, 6, 8, 10, 12, 14, 16, 18, 2]\n",
    "numbers_iterator = iter(numbers)\n",
    "for i in range(5):\n",
    "    print(next(numbers_iterator))"
   ]
  },
  {
   "cell_type": "code",
   "execution_count": null,
   "id": "7269558f-20b1-4869-8cdd-078b709b0d10",
   "metadata": {},
   "outputs": [],
   "source": [
    "Q4. What is a generator function in python? Why yield keyword is used? Give an example of a generator\n",
    "function."
   ]
  },
  {
   "cell_type": "code",
   "execution_count": null,
   "id": "b7a4d4d1-da0c-438a-a847-247946c20d86",
   "metadata": {},
   "outputs": [],
   "source": [
    "A generator function in Python is a special type of function that can be used to generate a sequence of values, \n",
    "one at a time, on-the-fly. Unlike a normal function that returns a single value or a list of values, a generator \n",
    "function returns a generator object, which can be used to produce a sequence of values, one value at a time,\n",
    "when required.\n",
    "A generator function is defined just like a normal function, but instead of using the return statement to return \n",
    "a value, it uses the yield statement. The yield statement is used to return a value from the generator function \n",
    "and pause its execution, so that it can be resumed from where it left off the next time the generator is iterated."
   ]
  },
  {
   "cell_type": "code",
   "execution_count": 9,
   "id": "412369c9-2bb0-4818-8e14-e9532e6d72bd",
   "metadata": {},
   "outputs": [
    {
     "name": "stdout",
     "output_type": "stream",
     "text": [
      "2\n",
      "4\n",
      "6\n",
      "8\n",
      "10\n"
     ]
    }
   ],
   "source": [
    "# print first five even numbers\n",
    "def even_numbers(n):\n",
    "    for i in range(2,n) :\n",
    "        if i % 2 == 0:\n",
    "            yield i\n",
    "evens = even_numbers(20)\n",
    "for i in range(5):\n",
    "    print(next(evens))"
   ]
  },
  {
   "cell_type": "code",
   "execution_count": null,
   "id": "d4cc775e-ca26-465f-a9fd-70740ca83126",
   "metadata": {},
   "outputs": [],
   "source": [
    "Q5. Create a generator function for prime numbers less than 1000. Use the next() method to print the\n",
    "first 20 prime numbers."
   ]
  },
  {
   "cell_type": "code",
   "execution_count": 23,
   "id": "effe12ff-1b9a-4ffb-b3bc-5de9ba6201d5",
   "metadata": {},
   "outputs": [
    {
     "name": "stdout",
     "output_type": "stream",
     "text": [
      "2\n",
      "3\n",
      "5\n",
      "7\n",
      "11\n",
      "13\n",
      "17\n",
      "19\n",
      "23\n",
      "29\n",
      "31\n",
      "37\n",
      "41\n",
      "43\n",
      "47\n",
      "53\n",
      "59\n",
      "61\n",
      "67\n",
      "71\n"
     ]
    }
   ],
   "source": [
    "def prime_numbers(x):\n",
    "    for i in range(2,x) :\n",
    "        for n in range(2,i):\n",
    "            if (i % n)==0:\n",
    "                 break\n",
    "        else:\n",
    "            yield i\n",
    "prime = prime_numbers(1000)\n",
    "for i in range(20):\n",
    "    print(next(prime))"
   ]
  },
  {
   "cell_type": "code",
   "execution_count": null,
   "id": "5a047652-23df-4627-84d3-08d3eb5e860b",
   "metadata": {},
   "outputs": [],
   "source": [
    "Q6. Write a python program to print the first 10 Fibonacci numbers using a while loop."
   ]
  },
  {
   "cell_type": "code",
   "execution_count": 25,
   "id": "7fe1587e-8e00-46d1-9da1-95bf1a57454d",
   "metadata": {},
   "outputs": [
    {
     "name": "stdout",
     "output_type": "stream",
     "text": [
      "0\n",
      "1\n",
      "1\n",
      "2\n",
      "3\n",
      "5\n",
      "8\n",
      "13\n",
      "21\n",
      "34\n"
     ]
    }
   ],
   "source": [
    "def fibonacci():\n",
    "    a, b = 0, 1\n",
    "    while True:\n",
    "        yield a\n",
    "        a, b = b, a + b\n",
    "fib = fibonacci()\n",
    "for i in range(10):\n",
    "    print(next(fib))        "
   ]
  },
  {
   "cell_type": "code",
   "execution_count": null,
   "id": "2332d5d5-ad39-4964-8021-a076cbc59224",
   "metadata": {},
   "outputs": [],
   "source": [
    "Q7.Write a List Comprehension to iterate through the given string: ‘pwskills’.\n",
    "Expected output: ['p', 'w', 's', 'k', 'i', 'l', 'l', 's']"
   ]
  },
  {
   "cell_type": "code",
   "execution_count": 26,
   "id": "7a49d10e-f557-4601-ba4e-429b49dbd3fc",
   "metadata": {},
   "outputs": [
    {
     "data": {
      "text/plain": [
       "['p', 'w', 's', 'k', 'i', 'l', 'l', 's']"
      ]
     },
     "execution_count": 26,
     "metadata": {},
     "output_type": "execute_result"
    }
   ],
   "source": [
    "string = 'pwskills'\n",
    "compre = [x for x in string]\n",
    "compre"
   ]
  },
  {
   "cell_type": "code",
   "execution_count": null,
   "id": "8f2dcbdd-caf6-4c62-abd4-1a630536076a",
   "metadata": {},
   "outputs": [],
   "source": [
    "Write a python program to check whether a given number is Palindrome or not using a while loop."
   ]
  },
  {
   "cell_type": "code",
   "execution_count": 31,
   "id": "47d0744e-d971-407f-a980-863c3ab7bebc",
   "metadata": {},
   "outputs": [
    {
     "name": "stdin",
     "output_type": "stream",
     "text": [
      "Enter a number:  313\n"
     ]
    },
    {
     "name": "stdout",
     "output_type": "stream",
     "text": [
      "313 is a palindrome.\n"
     ]
    }
   ],
   "source": [
    "def palindrome(num):\n",
    "    number = num\n",
    "    rev = 0\n",
    "    while num > 0:\n",
    "        last_digit = num % 10\n",
    "        rev= (rev * 10) + last_digit\n",
    "        num = num // 10\n",
    "    return number == rev\n",
    "\n",
    "number = int(input(\"Enter a number: \"))\n",
    "if palindrome(number):\n",
    "    print(\"{} is a palindrome.\".format(number))\n",
    "else:\n",
    "    print(\"{} is not a palindrome.\".format(number))"
   ]
  },
  {
   "cell_type": "code",
   "execution_count": null,
   "id": "d7e30a5e-2060-44e9-bb66-6aa1d6177363",
   "metadata": {},
   "outputs": [],
   "source": [
    "Write a code to print odd numbers from 1 to 100 using list comprehension."
   ]
  },
  {
   "cell_type": "code",
   "execution_count": 36,
   "id": "36c95a80-3dc0-43bb-be63-0f2ed3bfe7cc",
   "metadata": {},
   "outputs": [
    {
     "data": {
      "text/plain": [
       "[1,\n",
       " 3,\n",
       " 5,\n",
       " 7,\n",
       " 9,\n",
       " 11,\n",
       " 13,\n",
       " 15,\n",
       " 17,\n",
       " 19,\n",
       " 21,\n",
       " 23,\n",
       " 25,\n",
       " 27,\n",
       " 29,\n",
       " 31,\n",
       " 33,\n",
       " 35,\n",
       " 37,\n",
       " 39,\n",
       " 41,\n",
       " 43,\n",
       " 45,\n",
       " 47,\n",
       " 49,\n",
       " 51,\n",
       " 53,\n",
       " 55,\n",
       " 57,\n",
       " 59,\n",
       " 61,\n",
       " 63,\n",
       " 65,\n",
       " 67,\n",
       " 69,\n",
       " 71,\n",
       " 73,\n",
       " 75,\n",
       " 77,\n",
       " 79,\n",
       " 81,\n",
       " 83,\n",
       " 85,\n",
       " 87,\n",
       " 89,\n",
       " 91,\n",
       " 93,\n",
       " 95,\n",
       " 97,\n",
       " 99]"
      ]
     },
     "execution_count": 36,
     "metadata": {},
     "output_type": "execute_result"
    }
   ],
   "source": [
    "compre = [i for i in range(101) if i % 2 != 0 ]\n",
    "compre          "
   ]
  },
  {
   "cell_type": "code",
   "execution_count": null,
   "id": "cd746630-095f-4bb0-b084-7405ed844ad1",
   "metadata": {},
   "outputs": [],
   "source": []
  }
 ],
 "metadata": {
  "kernelspec": {
   "display_name": "Python 3 (ipykernel)",
   "language": "python",
   "name": "python3"
  },
  "language_info": {
   "codemirror_mode": {
    "name": "ipython",
    "version": 3
   },
   "file_extension": ".py",
   "mimetype": "text/x-python",
   "name": "python",
   "nbconvert_exporter": "python",
   "pygments_lexer": "ipython3",
   "version": "3.10.8"
  }
 },
 "nbformat": 4,
 "nbformat_minor": 5
}
