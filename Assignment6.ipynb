{
 "cells": [
  {
   "cell_type": "code",
   "execution_count": null,
   "id": "0c85e2f6-0460-49bc-8ff7-563246d817f7",
   "metadata": {},
   "outputs": [],
   "source": [
    "Q1. Create a function which will take a list as an argument and return the product of all the numbers\n",
    "after creating a flat list.\n",
    "Use the below-given list as an argument for your function.\n",
    "list1 = [1,2,3,4, [44,55,66, True], False, (34,56,78,89,34), {1,2,3,3,2,1}, {1:34, \"key2\": [55, 67, 78, 89], 4: (45,\n",
    "22, 61, 34)}, [56, 'data science'], 'Machine Learning']\n",
    "Note: you must extract numeric keys and values of the dictionary also."
   ]
  },
  {
   "cell_type": "code",
   "execution_count": 12,
   "id": "abe06a6e-2960-4f5a-9cfa-c35b87754174",
   "metadata": {},
   "outputs": [
    {
     "data": {
      "text/plain": [
       "4134711838987085478833841242112000"
      ]
     },
     "execution_count": 12,
     "metadata": {},
     "output_type": "execute_result"
    }
   ],
   "source": [
    "class ExtractNumbers:\n",
    "    def __init__(self, data):\n",
    "        self.data = data\n",
    "        self.flat_list = []\n",
    "\n",
    "    def flatten(self, data):\n",
    "        for item in data:\n",
    "            if type(item) in (int, float):\n",
    "                self.flat_list.append(item)\n",
    "            elif type(item) in (list, tuple,set):\n",
    "                self.flatten(item)\n",
    "            elif type(item) == dict:\n",
    "                for key, value in item.items():\n",
    "                    if type(key) in (int, float):\n",
    "                        self.flat_list.append(key)\n",
    "                    if type(value) in (int, float):\n",
    "                        self.flat_list.append(value)\n",
    "                    if type(value) in (list, tuple,set, dict):\n",
    "                        self.flatten(value)\n",
    "        return self.flat_list            \n",
    "\n",
    "    def product(self):\n",
    "        self.flatten(self.data)\n",
    "        product = 1\n",
    "        for item in self.flat_list:\n",
    "            product *= item\n",
    "        return product\n",
    "\n",
    "def calc_product(data):\n",
    "    extract = ExtractNumbers(data)\n",
    "    return extract.product()\n",
    "\n",
    "list1 = [1, 2, 3, 4, [44, 55, 66, True], False, (34, 56, 78, 89, 34), {1, 2, 3, 3, 2, 1}, {1: 34, \"key2\": [55, 67, 78, 89], 4: (45, 22, 61, 34)}, [56, 'data science'], 'Machine Learning']\n",
    "\n",
    "calc_product(list1)"
   ]
  },
  {
   "cell_type": "code",
   "execution_count": null,
   "id": "6033478e-57d1-486d-a8c5-1ec1c2c17f69",
   "metadata": {},
   "outputs": [],
   "source": [
    "Q2. Write a python program for encrypting a message sent to you by your friend. The logic of encryption\n",
    "should be such that, for a the output should be z. For b, the output should be y. For c, the output should\n",
    "be x respectively. Also, the whitespace should be replaced with a dollar sign. Keep the punctuation\n",
    "marks unchanged.\n",
    "Input Sentence: I want to become a Data Scientist.\n",
    "Encrypt the above input sentence using the program you just created.\n",
    "Note: Convert the given input sentence into lowercase before encrypting. The final output should be\n",
    "lowercase."
   ]
  },
  {
   "cell_type": "code",
   "execution_count": 14,
   "id": "ef585525-1d4b-4809-8b91-69cda5cedd00",
   "metadata": {},
   "outputs": [
    {
     "name": "stdout",
     "output_type": "stream",
     "text": [
      "r$dzmg$gl$yvxlnv$z$wzgz$hxrvmgrhg.\n"
     ]
    }
   ],
   "source": [
    "class Encryption:\n",
    "    def __init__(self, message):\n",
    "        self.message = message.lower()\n",
    "        self.encrypted_message = \"\"\n",
    "\n",
    "    def encrypt(self):\n",
    "        for char in self.message:\n",
    "            if char.isalpha():\n",
    "                self.encrypted_message += chr(122 - ord(char) + 97)\n",
    "            elif char == \" \":\n",
    "                self.encrypted_message += \"$\"\n",
    "            else:\n",
    "                self.encrypted_message += char\n",
    "        return self.encrypted_message\n",
    "\n",
    "def encrypt_message(message):\n",
    "    encryption = Encryption(message)\n",
    "    return encryption.encrypt()\n",
    "\n",
    "input_message = \"I want to become a Data Scientist.\"\n",
    "print(encrypt_message(input_message))\n"
   ]
  },
  {
   "cell_type": "code",
   "execution_count": null,
   "id": "cc2fa49e-51fa-41a0-a935-18cfe115c444",
   "metadata": {},
   "outputs": [],
   "source": []
  }
 ],
 "metadata": {
  "kernelspec": {
   "display_name": "Python 3 (ipykernel)",
   "language": "python",
   "name": "python3"
  },
  "language_info": {
   "codemirror_mode": {
    "name": "ipython",
    "version": 3
   },
   "file_extension": ".py",
   "mimetype": "text/x-python",
   "name": "python",
   "nbconvert_exporter": "python",
   "pygments_lexer": "ipython3",
   "version": "3.10.8"
  }
 },
 "nbformat": 4,
 "nbformat_minor": 5
}
